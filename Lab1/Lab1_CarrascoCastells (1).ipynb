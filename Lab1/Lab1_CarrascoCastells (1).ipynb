{
 "cells": [
  {
   "cell_type": "markdown",
   "id": "2bf1c4c8",
   "metadata": {},
   "source": [
    "# Task1 \n",
    "Run the above code and interpret the results. Please note the output of the model is the\n",
    "prediction of class labels of each of the four points. If you run the code several times, will you\n",
    "observe the same results? Why? Keep the parameter “n_unit=1” and increase the number of\n",
    "iterations starting from 10, 50, 100, 500, 2000, and compare the loss values. What can you\n",
    "conclude from increasing the number of iterations? Now, with a fixed value of “iterations =\n",
    "1000”, increase the parameter “n_unit” to 2, 5, 10 and interpret the results"
   ]
  },
  {
   "cell_type": "code",
   "execution_count": 77,
   "id": "7066d8f9",
   "metadata": {},
   "outputs": [
    {
     "name": "stdout",
     "output_type": "stream",
     "text": [
      "The target values are: [[0]\n",
      " [0]\n",
      " [0]\n",
      " [1]]\n",
      "The predicted values are: [[8.50217691e-05]\n",
      " [9.93518478e-03]\n",
      " [1.06290271e-02]\n",
      " [9.85192034e-01]]\n"
     ]
    },
    {
     "data": {
      "image/png": "[encoded data removed]",
      "text/plain": [
       "<Figure size 432x288 with 1 Axes>"
      ]
     },
     "metadata": {
      "needs_background": "light"
     },
     "output_type": "display_data"
    }
   ],
   "source": [
    "# Logic Operator\n",
    "import numpy as np\n",
    "import matplotlib.pyplot as plt\n",
    "# Sigmoid function\n",
    "def sigmoid(x):\n",
    "  return 1.0/(1+ np.exp(-x))\n",
    "\n",
    "# derivative of Sigmoid function for backprop.\n",
    "def sigmoid_derivative(x):\n",
    "  return x * (1.0 - x)\n",
    "\n",
    "class NeuralNetwork:\n",
    "  def __init__(self, x, y, N):\n",
    "    self.input = x\n",
    "    self.neuron = N\n",
    "    self.weights1 = np.random.rand(self.input.shape[1], self.neuron) # X dimension input connected to N neurons\n",
    "    self.weights2 = np.random.rand(self.neuron, 1) # N neurons connected to output\n",
    "    self.y = y\n",
    "    self.output = np.zeros(self.y.shape) # instantiating the output\n",
    "  def feedforward(self):\n",
    "    self.layer1 = sigmoid(np.dot(self.input, self.weights1))\n",
    "    self.output = sigmoid(np.dot(self.layer1, self.weights2))\n",
    "  def backprop(self):\n",
    "    # Chain rule to calculate derivative of the loss function with respect to weights2 and weights1\n",
    "    d_weights2 = np.dot(self.layer1.T,(2*(self.y - self.output)* sigmoid_derivative(self.output)))\n",
    "    d_weights1 = np.dot(self.input.T,(np.dot(2*(self.y - self.output)* sigmoid_derivative(self.output),self.weights2.T) * sigmoid_derivative(self.layer1)))\n",
    "    # weights updating\n",
    "    self.weights1 += d_weights1\n",
    "    self.weights2 += d_weights2\n",
    "iterations = 2000\n",
    "n_unit = 5\n",
    "if __name__ == \"__main__\":\n",
    "  Input = np.array([[0,0,1],\n",
    "  [0,1,1],\n",
    "  [1,0,1],\n",
    "  [1,1,1]])\n",
    "  Target = np.array([[0],[0],[0],[1]])\n",
    "  model = NeuralNetwork(Input, Target, n_unit)\n",
    "  SSD = []\n",
    "  for i in range(iterations):\n",
    "    model.feedforward()\n",
    "    model.backprop()\n",
    "    errors = (Target - model.output)**2\n",
    "    SSD.append(np.sum(errors)) # Objective(loss) function\n",
    "Itr = np.linspace(1,len(SSD),len(SSD))\n",
    "plt.plot(Itr, SSD)\n",
    "plt.xlabel('Iterations')\n",
    "plt.ylabel('SSD')\n",
    "print(\"The target values are:\", Target)\n",
    "print(\"The predicted values are:\", model.output)"
   ]
  },
  {
   "cell_type": "markdown",
   "id": "49573e10",
   "metadata": {},
   "source": [
    "_When running the code several times with the same number of iterations, the result keep changing. That's because the starting values for the weights are generated randomly. This makes that with a small number of iterations the variations are bigger. When increasing the number of iterations the loss values decrease until reaching a value around 0.2. However, increasing the parameter ''n_units'' it decreases the loss value more quickly than with iterations. Then the predicted values are closer to the target values._"
   ]
  },
  {
   "cell_type": "markdown",
   "id": "885cecfb",
   "metadata": {},
   "source": [
    "# Task2 \n",
    "Repeat task1 for XOR logic operator. For fixed values of parameters (iterations=2000,\n",
    "and n_unit=1), which of the AND or XOR operators has lower loss values? Why? Increase the\n",
    "number of neurons in the hidden layer (n_unit) to 2, 5, 10, 50. Does increasing the number of\n",
    "neurons improve the results? Why?"
   ]
  },
  {
   "cell_type": "code",
   "execution_count": 78,
   "id": "612cb955",
   "metadata": {},
   "outputs": [
    {
     "name": "stdout",
     "output_type": "stream",
     "text": [
      "The target values are: [[1]\n",
      " [0]\n",
      " [0]\n",
      " [1]]\n",
      "The predicted values are: [[0.9848862 ]\n",
      " [0.02049898]\n",
      " [0.01466747]\n",
      " [0.98079281]]\n",
      "1/1 [==============================] - 0s 32ms/step\n",
      "The predicted class labels are: [[0.45336166]\n",
      " [0.5503438 ]\n",
      " [0.6407123 ]\n",
      " [0.4271904 ]]\n"
     ]
    },
    {
     "data": {
      "image/png": "[encoded data removed]",
      "text/plain": [
       "<Figure size 432x288 with 1 Axes>"
      ]
     },
     "metadata": {
      "needs_background": "light"
     },
     "output_type": "display_data"
    }
   ],
   "source": [
    "\n",
    "# Logic Operator\n",
    "import numpy as np\n",
    "import matplotlib.pyplot as plt\n",
    "# Sigmoid function\n",
    "def sigmoid(x):\n",
    "  return 1.0/(1+ np.exp(-x))\n",
    "\n",
    "# derivative of Sigmoid function for backprop.\n",
    "def sigmoid_derivative(x):\n",
    "  return x * (1.0 - x)\n",
    "\n",
    "class NeuralNetwork:\n",
    "  def __init__(self, x, y, N):\n",
    "    self.input = x\n",
    "    self.neuron = N\n",
    "    self.weights1 = np.random.rand(self.input.shape[1], self.neuron) # X dimension input connected to N neurons\n",
    "    self.weights2 = np.random.rand(self.neuron, 1) # N neurons connected to output\n",
    "    self.y = y\n",
    "    self.output = np.zeros(self.y.shape) # instantiating the output\n",
    "  def feedforward(self):\n",
    "    self.layer1 = sigmoid(np.dot(self.input, self.weights1))\n",
    "    self.output = sigmoid(np.dot(self.layer1, self.weights2))\n",
    "  def backprop(self):\n",
    "    # Chain rule to calculate derivative of the loss function with respect to weights2 and weights1\n",
    "    d_weights2 = np.dot(self.layer1.T,(2*(self.y - self.output)* sigmoid_derivative(self.output)))\n",
    "    d_weights1 = np.dot(self.input.T,(np.dot(2*(self.y - self.output)* sigmoid_derivative(self.output),self.weights2.T) * sigmoid_derivative(self.layer1)))\n",
    "    # weights updating\n",
    "    self.weights1 += d_weights1\n",
    "    self.weights2 += d_weights2\n",
    "iterations = 2000\n",
    "n_unit = 5\n",
    "if __name__ == \"__main__\":\n",
    "  Input = np.array([[0,0,1],\n",
    "  [0,1,1],\n",
    "  [1,0,1],\n",
    "  [1,1,1]])\n",
    "  Target = np.array([[1],[0],[0],[1]])\n",
    "  model = NeuralNetwork(Input, Target, n_unit)\n",
    "  SSD = []\n",
    "for i in range(iterations):\n",
    "    model.feedforward()\n",
    "    model.backprop()\n",
    "    errors = (Target - model.output)**2\n",
    "    SSD.append(np.sum(errors)) # Objective(loss) function\n",
    "Itr = np.linspace(1,len(SSD),len(SSD))\n",
    "plt.plot(Itr, SSD)\n",
    "plt.xlabel('Iterations')\n",
    "plt.ylabel('SSD')\n",
    "print(\"The target values are:\", Target)\n",
    "print(\"The predicted values are:\", model.output)\n",
    "\n",
    "# Logic operator with Tensorflow Keras\n",
    "import numpy as np\n",
    "from tensorflow.keras.models import Sequential\n",
    "from tensorflow.keras.layers import Dense\n",
    "from tensorflow.keras.optimizers import SGD\n",
    "Input = np.array([[0,0],[0,1],[1,0],[1,1]], \"float32\")\n",
    "Target = np.array([[0],[1],[1],[0]], \"float32\")\n",
    "n_unit = 10\n",
    "model = Sequential()\n",
    "model.add(Dense(n_unit, input_dim=2, activation='relu'))\n",
    "model.add(Dense(1, activation='sigmoid'))\n",
    "model.compile(loss='mean_squared_error',\n",
    "optimizer = SGD(learning_rate= 0.01),\n",
    "metrics=['binary_accuracy'])\n",
    "model.fit(Input, Target, epochs = 2000, verbose=0)\n",
    "print(\"The predicted class labels are:\", model.predict(Input))\n"
   ]
  },
  {
   "cell_type": "markdown",
   "id": "57ecf117",
   "metadata": {},
   "source": [
    "We can see that AND has lower loss values than XOR (0.99).\n",
    "\n",
    "- AND operator is easily to learn by the neural network, beacuse is linearly separable and simple logical operation. It outputs a 1 only when both input values are 1 and outputs 0 for all other input combinations.\n",
    "\n",
    "- XOR operator is more dificult to learn beacuse is a more complex logical operation and not linearly separable. It outputs a 1 only when exactly one of the input values is 1 and outputs 0 for all other input combinations. So,it requires a more complex representations.\n",
    "\n",
    "On the other hand, when increasing the number of neurons in the hidden layer, we can see that the results improve. Obtaining outputs closer to the target and also reducing the loss value.\n"
   ]
  },
  {
   "cell_type": "markdown",
   "id": "00739480",
   "metadata": {},
   "source": [
    "# Task3 \n",
    "In the above code, change the parameter “n_unit” as 1, 10 and interpret the observed results."
   ]
  },
  {
   "cell_type": "markdown",
   "id": "dff712f0",
   "metadata": {},
   "source": [
    "Using Tensorflow code is quickly (0,35ms/step) and more accurate to the target values. In addition, tensorflow and numpy obtain quite similar results."
   ]
  },
  {
   "cell_type": "markdown",
   "id": "dae9d536",
   "metadata": {},
   "source": [
    "# Task 4\n",
    "Review the following data loader code and find out how it works. Run it to load the\n",
    "training and test data."
   ]
  },
  {
   "cell_type": "code",
   "execution_count": 79,
   "id": "037ae8d8",
   "metadata": {},
   "outputs": [
    {
     "name": "stdout",
     "output_type": "stream",
     "text": [
      "Reading: 0/1000 of train images\n",
      "Reading: 100/1000 of train images\n",
      "Reading: 200/1000 of train images\n",
      "Reading: 300/1000 of train images\n",
      "Reading: 400/1000 of train images\n",
      "Reading: 500/1000 of train images\n",
      "Reading: 600/1000 of train images\n",
      "Reading: 700/1000 of train images\n",
      "Reading: 800/1000 of train images\n",
      "Reading: 900/1000 of train images\n",
      "Reading: 0/200 of train images\n",
      "Reading: 100/200 of train images\n"
     ]
    }
   ],
   "source": [
    "# Data Loader\n",
    "import os\n",
    "import numpy as np\n",
    "from random import shuffle\n",
    "from skimage.io import imread\n",
    "from skimage.transform import resize\n",
    "def gen_labels(im_name, pat1, pat2):\n",
    "\n",
    "     '''\n",
    "     Parameters\n",
    "     ----------\n",
    "     im_name : Str\n",
    "     The image file name.\n",
    "     pat1 : Str\n",
    "     A string pattern in the filename for 1st class, e.g \"Mel\"\n",
    "     pat2 : Str\n",
    "     A string pattern in the filename 2nd class, e.g, \"Nev\"\n",
    "     Returns\n",
    "     -------\n",
    "     Label : Numpy array\n",
    "     Class label of the filename name based on its pattern.\n",
    "     '''\n",
    "     if pat1 in im_name:\n",
    "         label = np.array([0])\n",
    "     elif pat2 in im_name:\n",
    "         label = np.array([1])\n",
    "     return label\n",
    "def get_data(data_path, data_list, img_h, img_w):\n",
    "    img_labels = []\n",
    "    \"\"\"\n",
    "     Parameters\n",
    "     ----------\n",
    "     train_data_path : Str\n",
    "     Path to the data directory\n",
    "     train_list : List\n",
    "     A list containing the name of the images.\n",
    "     img_h : Int\n",
    "     image height to be resized to.\n",
    "     img_w : Int\n",
    "     image width to be resized to.\n",
    "     Returns\n",
    "     -------\n",
    "     img_labels : Nested List\n",
    "     A nested list containing the loaded images along with their\n",
    "     correcponding labels.\n",
    "     \"\"\"\n",
    "    for item in enumerate(data_list):\n",
    "         img = imread(os.path.join(data_path, item[1]), as_gray = True) # \"as_grey\"\n",
    "         img = resize(img, (img_h, img_w), anti_aliasing = True).astype('float32')\n",
    "         img_labels.append([np.array(img), gen_labels(item[1], 'Mel', 'Nev')])\n",
    "\n",
    "         if item[0] % 100 == 0:\n",
    "             print('Reading: {0}/{1} of train images'.format(item[0], len(data_list)))\n",
    "    shuffle(img_labels)\n",
    "    return img_labels\n",
    "\n",
    "def get_data_arrays(nested_list, img_h, img_w):\n",
    "     \"\"\"\n",
    "     Parameters\n",
    "     ----------\n",
    "     nested_list : nested list\n",
    "     nested list of image arrays with corresponding class labels.\n",
    "     img_h : Int\n",
    "     Image height.\n",
    "     img_w : Int\n",
    "     Image width.\n",
    "    6\n",
    "    Deep Learning Methods for Medical Image Analysis (CM2003)\n",
    "    Laboratory Assignment 1\n",
    "     Returns\n",
    "     -------\n",
    "     img_arrays : Numpy array\n",
    "     4D Array with the size of (n_data,img_h,img_w, 1)\n",
    "     label_arrays : Numpy array\n",
    "     1D array with the size (n_data).\n",
    "     \"\"\"\n",
    "     img_arrays = np.zeros((len(nested_list), img_h, img_w), dtype = np.float32)\n",
    "     label_arrays = np.zeros((len(nested_list)), dtype = np.int32)\n",
    "     for ind in range(len(nested_list)):\n",
    "         img_arrays[ind] = nested_list[ind][0]\n",
    "         label_arrays[ind] = nested_list[ind][1]\n",
    "     img_arrays = np.expand_dims(img_arrays, axis =3)\n",
    "     return img_arrays, label_arrays\n",
    "\n",
    "def get_train_test_arrays(train_data_path, test_data_path, train_list,\n",
    " test_list, img_h, img_w):\n",
    "     \"\"\"\n",
    "     Get the directory to the train and test sets, the files names and\n",
    "     the size of the image and return the image and label arrays for\n",
    "     train and test sets.\n",
    "     \"\"\"\n",
    "\n",
    "     train_data = get_data(train_data_path, train_list, img_h, img_w)\n",
    "     test_data = get_data(test_data_path, test_list, img_h, img_w)\n",
    "\n",
    "     train_img, train_label = get_data_arrays(train_data, img_h, img_w)\n",
    "     test_img, test_label = get_data_arrays(test_data, img_h, img_w)\n",
    "     del(train_data)\n",
    "     del(test_data)\n",
    "     return train_img, test_img, train_label, test_label\n",
    "\n",
    "img_w, img_h = 128, 128 # Setting the width and heights of the images.\n",
    "data_path = '../Data/Lab1/Skin/' # Path to data root with two subdirs.\n",
    "train_data_path = os.path.join(data_path, 'train')\n",
    "test_data_path = os.path.join(data_path, 'test')\n",
    "train_list = os.listdir(train_data_path)\n",
    "test_list = os.listdir(test_data_path)\n",
    "x_train, x_test, y_train, y_test = get_train_test_arrays(train_data_path, test_data_path,train_list, test_list, img_h, img_w)"
   ]
  },
  {
   "cell_type": "markdown",
   "id": "46ee350f",
   "metadata": {},
   "source": [
    "# Task 5\n",
    "Develop a 4-layers MLP. If you call the number of neurons in the first fully-connected layer as “base_dense”, this 4-layers MLP should contain “base_dense”, “base_dense//2”, and “base_dense//4” as the number of neurons in the first 3 layers respectively. The activation function of all those neurons should set as “Relu”. However, in the last layer (4th layer), choose a proper number of neurons as well as activation function(s) that fit the binary classification task.\n",
    "Develop your model as a function, and remember to, first, import all the required layers/tools\n",
    "from tensorflow."
   ]
  },
  {
   "cell_type": "code",
   "execution_count": null,
   "id": "17b10034",
   "metadata": {},
   "outputs": [],
   "source": [
    "import tensorflow as tf\n",
    "import keras\n",
    "from tensorflow import keras\n",
    "from tensorflow.keras import layers\n",
    "from tensorflow.keras.layers import Input,Dense,Flatten \n",
    "\n",
    "def model(img_width, img_height, img_ch, base_dense):\n",
    "    input_size = (img_width, img_height, img_ch)\n",
    "    inputs_layer = Input(shape=input_size, name='input_layer')\n",
    "    x = Flatten()(inputs_layer)\n",
    "    x = Dense(base_dense, activation='relu')(x)\n",
    "    x = Dense(base_dense//2, activation=\"relu\")(x)\n",
    "    x = Dense(base_dense//4, activation=\"relu\")(x)\n",
    "    out = Dense(1, activation=\"sigmoid\")(x)\n",
    "    \n",
    "    # TODO\n",
    "    clf = tf.keras.Model(inputs=inputs_layer, outputs=out)\n",
    "    clf.summary()\n",
    "    return clf\n",
    "\n",
    "# Example usage:\n",
    "img_width = img_w\n",
    "img_height = img_h\n",
    "img_ch = 1\n",
    "base_dense = 64\n",
    "learning_rate = 0.0001\n",
    "\n",
    "mlp_model = model(img_width, img_height, img_ch, base_dense)\n",
    "\n",
    "# Compile the model\n",
    "mlp_model.compile(optimizer=tf.keras.optimizers.Adam(learning_rate), loss='binary_crossentropy', metrics=['binary_accuracy'])\n",
    "\n",
    "# Define training parameters\n",
    "n_epochs = 50\n",
    "batch_size = 16\n",
    "\n",
    "# Generate some example data (replace with your actual data)\n",
    "train_data = x_train\n",
    "train_labels = y_train\n",
    "val_data = x_test\n",
    "val_labels = y_test\n",
    "\n",
    "# Train the model\n",
    "clf_hist = mlp_model.fit(train_data, train_labels, validation_data=(val_data, val_labels), epochs=n_epochs, batch_size=batch_size)\n"
   ]
  },
  {
   "cell_type": "markdown",
   "id": "24ec4841",
   "metadata": {},
   "source": [
    "# Task 6 \n",
    "The values of loss and accuracy metrics are saved within the variable “clf_hist”. You can\n",
    "use the following code to visualize the loss curves:"
   ]
  },
  {
   "cell_type": "code",
   "execution_count": 72,
   "id": "53d09ddc",
   "metadata": {},
   "outputs": [
    {
     "data": {
      "image/png": "[encoded data removed]",
      "text/plain": [
       "<Figure size 288x288 with 1 Axes>"
      ]
     },
     "metadata": {
      "needs_background": "light"
     },
     "output_type": "display_data"
    },
    {
     "data": {
      "image/png": "[encoded data removed]",
      "text/plain": [
       "<Figure size 288x288 with 1 Axes>"
      ]
     },
     "metadata": {
      "needs_background": "light"
     },
     "output_type": "display_data"
    }
   ],
   "source": [
    "%matplotlib inline\n",
    "import matplotlib.pyplot as plt\n",
    "plt.figure(figsize=(4, 4))\n",
    "plt.title(\"Learning curve\")\n",
    "plt.plot(clf_hist.history[\"loss\"], label=\"loss\")\n",
    "plt.plot(clf_hist.history[\"val_loss\"], label=\"val_loss\")\n",
    "plt.plot( np.argmin(clf_hist.history[\"val_loss\"]),\n",
    "        np.min(clf_hist.history[\"val_loss\"]),\n",
    "        marker=\"x\", color=\"r\", label=\"best model\")\n",
    "\n",
    "plt.xlabel(\"Epochs\")\n",
    "plt.ylabel(\"Loss Value\")\n",
    "plt.legend();\n",
    "\n",
    "\n",
    "\n",
    "plt.figure(figsize=(4, 4))\n",
    "plt.title(\"Learning curve\")\n",
    "plt.plot(clf_hist.history[\"binary_accuracy\"], label=\"binary_accuracy\")\n",
    "plt.plot(clf_hist.history[\"val_binary_accuracy\"], label=\"val_binary_accuracy\")\n",
    "plt.plot( np.argmax(clf_hist.history[\"val_binary_accuracy\"]),\n",
    "        np.max(clf_hist.history[\"val_binary_accuracy\"]),\n",
    "        marker=\"x\", color=\"r\", label=\"best model\")\n",
    "\n",
    "plt.xlabel(\"Epochs\")\n",
    "plt.ylabel(\"Binary accuracy Value\")\n",
    "plt.legend();\n"
   ]
  },
  {
   "cell_type": "markdown",
   "id": "31427ab5",
   "metadata": {},
   "source": [
    "_How do you interpret the observed values of loss and accuracy values?_\n",
    "\n",
    "We can see that increasing the number of epochs, the loss value decreases and the accuracy increases. That's because every epoch means a complete pass through the entire training dataset. In other words, it's the number of times the model has seen and learned from the entire training dataset. So as this number goes increasing the error is less, and accuracy is higher.\n",
    "\n",
    "_Is the number of epochs enough to make a good decision about model performance?_\n",
    "\n",
    "We consider that it's not good enough as long as the oscillation of the loss and accuracy values is still reasonably big. In order to make a good decision about model performance we should increase the number of epochs in order to obtain stable values.\n",
    "\n",
    "\n",
    "_For the same number of epochs, reduce the learning rate parameter to 0.1 and interpret the results._\n",
    "\n",
    "Reducing the learning rate to 0.1 makes the values of loss and acccuracay values become stable with less number of epochs, but in a worse value. The loss value gets stable at a 0.69, which is higher than with the previous learning rate, and the binary accuracy value gets stable at 0.5, which is less than before. \n",
    "The fact that using a higher learning rate value produces worse performance is because the size of the steps is bigger, which leads to overshooting the optimal solution.\n",
    "\n",
    "_Now increase the number of epochs to 150 with LR=0.0001. Does this model have enough capacity to yield acceptable results?_\n",
    "\n",
    "The model has not enough capacity to yield acceptable result because the loss and accuracy values still oscilating so it has not stability enough to accept it.\n",
    "\n",
    "_Increase the “base_dense” parameter to 256 and compare the results with the case of “base_dense=64”. Is increasing the model capacity helpful to improve the model performance? Why?_\n",
    "\n",
    "Increasing the model capacity improve the model performance beacuse we can see higher binary accuracy and lower loss values. So it is better to increase the \"base_dense\" to have better results.\n",
    "\n"
   ]
  }
 ],
 "metadata": {
  "kernelspec": {
   "display_name": "Python 3",
   "language": "python",
   "name": "python3"
  },
  "language_info": {
   "codemirror_mode": {
    "name": "ipython",
    "version": 3
   },
   "file_extension": ".py",
   "mimetype": "text/x-python",
   "name": "python",
   "nbconvert_exporter": "python",
   "pygments_lexer": "ipython3",
   "version": "3.8.10"
  }
 },
 "nbformat": 4,
 "nbformat_minor": 5
}
